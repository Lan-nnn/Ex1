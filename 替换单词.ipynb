{
  "nbformat": 4,
  "nbformat_minor": 0,
  "metadata": {
    "colab": {
      "provenance": []
    },
    "kernelspec": {
      "name": "python3",
      "display_name": "Python 3"
    },
    "language_info": {
      "name": "python"
    }
  },
  "cells": [
    {
      "cell_type": "code",
      "execution_count": 1,
      "metadata": {
        "colab": {
          "base_uri": "https://localhost:8080/"
        },
        "id": "D3dzMF6DVVFe",
        "outputId": "68665293-0754-441e-ae3c-19caced68325"
      },
      "outputs": [
        {
          "output_type": "stream",
          "name": "stdout",
          "text": [
            "The word 'terrible' appears 9 times in the text.\n",
            "Modified text has been written to result.txt.\n"
          ]
        }
      ],
      "source": [
        "# Step 1: Read the contents of the file \"file_to_read.txt\"\n",
        "file_path = 'file_to_read.txt'\n",
        "\n",
        "with open(file_path, 'r') as f:\n",
        "    original_text = f.read()\n",
        "\n",
        "# Step 2: Calculate the total number of occurrences of the word \"terrible\"\n",
        "total_occurrences = original_text.lower().count(\"terrible\")\n",
        "print(f\"The word 'terrible' appears {total_occurrences} times in the text.\")\n",
        "\n",
        "# Step 3: Replace every EVEN occurrence of the word \"terrible\" with \"pathetic\",\n",
        "# and every ODD occurrence with \"marvellous\"\n",
        "\n",
        "# Initialize variables to keep track of the current occurrence of the word \"terrible\"\n",
        "current_occurrence = 0\n",
        "\n",
        "# List to hold the parts of the modified text\n",
        "modified_text_parts = []\n",
        "\n",
        "# Split the original text by the word \"terrible\"\n",
        "split_text = original_text.split(\"terrible\")\n",
        "\n",
        "# Loop through the split text to replace \"terrible\" with either \"pathetic\" or \"marvellous\"\n",
        "for part in split_text[:-1]:\n",
        "    current_occurrence += 1\n",
        "    if current_occurrence % 2 == 0:\n",
        "        modified_text_parts.append(part + \"pathetic\")\n",
        "    else:\n",
        "        modified_text_parts.append(part + \"marvellous\")\n",
        "\n",
        "# Add the last part of the split text\n",
        "modified_text_parts.append(split_text[-1])\n",
        "\n",
        "# Join the modified text parts to get the full modified text\n",
        "modified_text = \"\".join(modified_text_parts)\n",
        "\n",
        "# Step 4: Write the modified text to a new file called \"result.txt\"\n",
        "result_file_path = 'result.txt'\n",
        "with open(result_file_path, 'w') as f:\n",
        "    f.write(modified_text)\n",
        "\n",
        "print(f\"Modified text has been written to {result_file_path}.\")\n"
      ]
    }
  ]
}